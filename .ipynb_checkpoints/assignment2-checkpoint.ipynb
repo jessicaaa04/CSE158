{
 "cells": [
  {
   "cell_type": "code",
   "execution_count": null,
   "id": "ae6e369a-e738-4f65-aa91-b03519116799",
   "metadata": {},
   "outputs": [],
   "source": [
    "# NOTE RATING IS 0-5 INTEGER ONLY"
   ]
  },
  {
   "cell_type": "code",
   "execution_count": 11,
   "id": "93321c0a-0947-42dc-9c4d-56ffa6ef5d92",
   "metadata": {},
   "outputs": [],
   "source": [
    "import gzip\n",
    "from collections import defaultdict\n",
    "import math\n",
    "import scipy.optimize\n",
    "from sklearn import svm\n",
    "import numpy\n",
    "import string\n",
    "import random\n",
    "import string\n",
    "from sklearn import linear_model\n",
    "from sklearn.metrics import accuracy_score, mean_squared_error, classification_report\n",
    "from sklearn.ensemble import RandomForestClassifier\n",
    "from sklearn.model_selection import train_test_split\n",
    "from scipy.optimize import minimize\n",
    "from itertools import islice\n",
    "import csv"
   ]
  },
  {
   "cell_type": "code",
   "execution_count": 12,
   "id": "52865c25-9f4d-4457-9010-b8233ae2dd57",
   "metadata": {},
   "outputs": [],
   "source": [
    "def assertFloat(x):\n",
    "    assert type(float(x)) == float\n",
    "\n",
    "def assertFloatList(items, N):\n",
    "    assert len(items) == N\n",
    "    assert [type(float(x)) for x in items] == [float]*N"
   ]
  },
  {
   "cell_type": "code",
   "execution_count": 13,
   "id": "8d8344d7-1767-4f40-8fb5-da3c5a715342",
   "metadata": {},
   "outputs": [],
   "source": [
    "import warnings\n",
    "warnings.filterwarnings(\"ignore\")"
   ]
  },
  {
   "cell_type": "code",
   "execution_count": 14,
   "id": "d33ac2cc-c2d4-4d0c-9d69-feaa1675ea9b",
   "metadata": {},
   "outputs": [],
   "source": [
    "def readGz(path):\n",
    "    for l in gzip.open(path, 'rt'):\n",
    "        yield eval(l)"
   ]
  },
  {
   "cell_type": "code",
   "execution_count": 32,
   "id": "a3477cac-d624-464e-beba-4d82df60c5a7",
   "metadata": {},
   "outputs": [],
   "source": [
    "def readCSV(path):\n",
    "    with open(path, mode='r') as file:\n",
    "        reader = csv.reader(file)\n",
    "        # Skip the header row\n",
    "        next(reader, None)\n",
    "        # Loop through the rows\n",
    "        for row in reader:\n",
    "            # Extract the first 4 columns\n",
    "            u,i,d,r = row[:4]\n",
    "            yield u, i, d, int(r)\n"
   ]
  },
  {
   "cell_type": "code",
   "execution_count": 33,
   "id": "a23e9c98-afb4-49c2-817b-8dd7342ee877",
   "metadata": {},
   "outputs": [
    {
     "ename": "ValueError",
     "evalue": "invalid literal for int() with base 10: 'rating'",
     "output_type": "error",
     "traceback": [
      "\u001b[0;31m---------------------------------------------------------------------------\u001b[0m",
      "\u001b[0;31mValueError\u001b[0m                                Traceback (most recent call last)",
      "Cell \u001b[0;32mIn[33], line 6\u001b[0m\n\u001b[1;32m      4\u001b[0m usersPerItem \u001b[38;5;241m=\u001b[39m defaultdict(\u001b[38;5;28mset\u001b[39m)\n\u001b[1;32m      5\u001b[0m global_fallback_rating \u001b[38;5;241m=\u001b[39m \u001b[38;5;241m0\u001b[39m\n\u001b[0;32m----> 6\u001b[0m \u001b[38;5;28;43;01mfor\u001b[39;49;00m\u001b[43m \u001b[49m\u001b[43ml\u001b[49m\u001b[43m \u001b[49m\u001b[38;5;129;43;01min\u001b[39;49;00m\u001b[43m \u001b[49m\u001b[43mreadCSV\u001b[49m\u001b[43m(\u001b[49m\u001b[38;5;124;43m\"\u001b[39;49m\u001b[38;5;124;43mdata/interactions_train.csv\u001b[39;49m\u001b[38;5;124;43m\"\u001b[39;49m\u001b[43m)\u001b[49m\u001b[43m:\u001b[49m\n\u001b[1;32m      7\u001b[0m \u001b[43m    \u001b[49m\u001b[43mtrain_dataset\u001b[49m\u001b[38;5;241;43m.\u001b[39;49m\u001b[43mappend\u001b[49m\u001b[43m(\u001b[49m\u001b[43ml\u001b[49m\u001b[43m)\u001b[49m\n\u001b[1;32m      8\u001b[0m \u001b[43m    \u001b[49m\u001b[43muser\u001b[49m\u001b[43m,\u001b[49m\u001b[43m \u001b[49m\u001b[43mrecipe\u001b[49m\u001b[43m,\u001b[49m\u001b[43m \u001b[49m\u001b[43mdata\u001b[49m\u001b[43m,\u001b[49m\u001b[43m \u001b[49m\u001b[43mrating\u001b[49m\u001b[43m \u001b[49m\u001b[38;5;241;43m=\u001b[39;49m\u001b[43m \u001b[49m\u001b[43ml\u001b[49m\n",
      "Cell \u001b[0;32mIn[32], line 9\u001b[0m, in \u001b[0;36mreadCSV\u001b[0;34m(path)\u001b[0m\n\u001b[1;32m      6\u001b[0m \u001b[38;5;28;01mfor\u001b[39;00m row \u001b[38;5;129;01min\u001b[39;00m reader:\n\u001b[1;32m      7\u001b[0m     \u001b[38;5;66;03m# Extract the first 4 columns\u001b[39;00m\n\u001b[1;32m      8\u001b[0m     u,i,d,r \u001b[38;5;241m=\u001b[39m row[:\u001b[38;5;241m4\u001b[39m]\n\u001b[0;32m----> 9\u001b[0m     \u001b[38;5;28;01myield\u001b[39;00m u, i, d, \u001b[38;5;28;43mint\u001b[39;49m\u001b[43m(\u001b[49m\u001b[43mr\u001b[49m\u001b[43m)\u001b[49m\n",
      "\u001b[0;31mValueError\u001b[0m: invalid literal for int() with base 10: 'rating'"
     ]
    }
   ],
   "source": [
    "train_dataset = []\n",
    "ratings_dict = defaultdict(int)\n",
    "itemsPerUser = defaultdict(set)\n",
    "usersPerItem = defaultdict(set)\n",
    "global_fallback_rating = 0\n",
    "for l in readCSV(\"data/interactions_train.csv\"):\n",
    "    train_dataset.append(l)\n",
    "    user, recipe, data, rating = l\n",
    "    itemsPerUser[user].add(recipe)\n",
    "    usersPerItem[recipe].add(user)\n",
    "    global_fallback_rating += rating\n",
    "    \n",
    "\n",
    "\n",
    "global_fallback_rating = global_fallback_rating / len(train_dataset)\n",
    "global_fallback_rating"
   ]
  },
  {
   "cell_type": "code",
   "execution_count": null,
   "id": "d44c4a19-23dc-4bc8-83cd-fc07124f5630",
   "metadata": {},
   "outputs": [],
   "source": []
  }
 ],
 "metadata": {
  "kernelspec": {
   "display_name": "Python 3 (ipykernel)",
   "language": "python",
   "name": "python3"
  },
  "language_info": {
   "codemirror_mode": {
    "name": "ipython",
    "version": 3
   },
   "file_extension": ".py",
   "mimetype": "text/x-python",
   "name": "python",
   "nbconvert_exporter": "python",
   "pygments_lexer": "ipython3",
   "version": "3.11.9"
  }
 },
 "nbformat": 4,
 "nbformat_minor": 5
}
