{
 "cells": [
  {
   "cell_type": "code",
   "execution_count": 1,
   "id": "ae6e369a-e738-4f65-aa91-b03519116799",
   "metadata": {},
   "outputs": [],
   "source": [
    "# NOTE RATING IS 0-5 INTEGER ONLY"
   ]
  },
  {
   "cell_type": "code",
   "execution_count": 2,
   "id": "93321c0a-0947-42dc-9c4d-56ffa6ef5d92",
   "metadata": {},
   "outputs": [],
   "source": [
    "import gzip\n",
    "from collections import defaultdict\n",
    "import math\n",
    "import scipy.optimize\n",
    "from sklearn import svm\n",
    "import numpy\n",
    "import string\n",
    "import random\n",
    "import string\n",
    "from sklearn import linear_model\n",
    "from sklearn.metrics import accuracy_score, mean_squared_error, classification_report\n",
    "from sklearn.ensemble import RandomForestClassifier\n",
    "from sklearn.model_selection import train_test_split\n",
    "from scipy.optimize import minimize\n",
    "from itertools import islice\n",
    "import csv"
   ]
  },
  {
   "cell_type": "code",
   "execution_count": 3,
   "id": "52865c25-9f4d-4457-9010-b8233ae2dd57",
   "metadata": {},
   "outputs": [],
   "source": [
    "def assertFloat(x):\n",
    "    assert type(float(x)) == float\n",
    "\n",
    "def assertFloatList(items, N):\n",
    "    assert len(items) == N\n",
    "    assert [type(float(x)) for x in items] == [float]*N"
   ]
  },
  {
   "cell_type": "code",
   "execution_count": 4,
   "id": "8d8344d7-1767-4f40-8fb5-da3c5a715342",
   "metadata": {},
   "outputs": [],
   "source": [
    "import warnings\n",
    "warnings.filterwarnings(\"ignore\")"
   ]
  },
  {
   "cell_type": "code",
   "execution_count": 5,
   "id": "d33ac2cc-c2d4-4d0c-9d69-feaa1675ea9b",
   "metadata": {},
   "outputs": [],
   "source": [
    "def readGz(path):\n",
    "    for l in gzip.open(path, 'rt'):\n",
    "        yield eval(l)"
   ]
  },
  {
   "cell_type": "code",
   "execution_count": 8,
   "id": "a3477cac-d624-464e-beba-4d82df60c5a7",
   "metadata": {},
   "outputs": [],
   "source": [
    "def readCSV(path):\n",
    "    with open(path, mode='r') as file:\n",
    "        reader = csv.reader(file)\n",
    "        # Skip the header row\n",
    "        next(reader, None)\n",
    "        # Loop through the rows\n",
    "        for row in reader:\n",
    "            # Extract the first 4 columns\n",
    "            u,i,d,r = row[:4]\n",
    "            yield u, i, d, float(r)\n"
   ]
  },
  {
   "cell_type": "code",
   "execution_count": 9,
   "id": "a23e9c98-afb4-49c2-817b-8dd7342ee877",
   "metadata": {},
   "outputs": [
    {
     "data": {
      "text/plain": [
       "4.574089892559891"
      ]
     },
     "execution_count": 9,
     "metadata": {},
     "output_type": "execute_result"
    }
   ],
   "source": [
    "train_dataset = []\n",
    "ratings_dict = defaultdict(int)\n",
    "itemsPerUser = defaultdict(set)\n",
    "usersPerItem = defaultdict(set)\n",
    "global_fallback_rating = 0\n",
    "for l in readCSV(\"data/interactions_train.csv\"):\n",
    "    train_dataset.append(l)\n",
    "    user, recipe, data, rating = l\n",
    "    itemsPerUser[user].add(recipe)\n",
    "    usersPerItem[recipe].add(user)\n",
    "    global_fallback_rating += rating\n",
    "    \n",
    "\n",
    "\n",
    "global_fallback_rating = global_fallback_rating / len(train_dataset)\n",
    "global_fallback_rating"
   ]
  },
  {
   "cell_type": "code",
   "execution_count": 11,
   "id": "d44c4a19-23dc-4bc8-83cd-fc07124f5630",
   "metadata": {},
   "outputs": [],
   "source": [
    "def baseline_predictor(user, item, date):\n",
    "    return global_fallback_rating\n",
    "\n"
   ]
  },
  {
   "cell_type": "code",
   "execution_count": 12,
   "id": "1cbed53a-81a8-4af0-a094-fa3e529d5bdf",
   "metadata": {},
   "outputs": [
    {
     "name": "stdout",
     "output_type": "stream",
     "text": [
      "baseline MSE: 1.8138061805801156\n"
     ]
    }
   ],
   "source": [
    "validation_dataset = []\n",
    "validation_reals = []\n",
    "validation_preds = []\n",
    "for l in readCSV(\"data/interactions_validation.csv\"):\n",
    "    validation_dataset.append(l)\n",
    "    user, recipe, date, rating = l\n",
    "    validation_reals.append(rating)\n",
    "    validation_preds.append(baseline_predictor(user, recipe, date))\n",
    "\n",
    "print(f'baseline MSE: {mean_squared_error(validation_reals, validation_preds)}')\n",
    "    "
   ]
  },
  {
   "cell_type": "code",
   "execution_count": null,
   "id": "2fa47a4a-856a-46a3-bf24-9bb420c1daf1",
   "metadata": {},
   "outputs": [],
   "source": []
  }
 ],
 "metadata": {
  "kernelspec": {
   "display_name": "Python 3 (ipykernel)",
   "language": "python",
   "name": "python3"
  },
  "language_info": {
   "codemirror_mode": {
    "name": "ipython",
    "version": 3
   },
   "file_extension": ".py",
   "mimetype": "text/x-python",
   "name": "python",
   "nbconvert_exporter": "python",
   "pygments_lexer": "ipython3",
   "version": "3.11.9"
  }
 },
 "nbformat": 4,
 "nbformat_minor": 5
}
