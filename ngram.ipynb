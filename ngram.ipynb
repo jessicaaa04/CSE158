{
 "cells": [
  {
   "cell_type": "code",
   "execution_count": 15,
   "metadata": {},
   "outputs": [],
   "source": [
    "import gzip\n",
    "import math\n",
    "import matplotlib.pyplot as plt\n",
    "import numpy\n",
    "import random\n",
    "import sklearn\n",
    "import string\n",
    "from collections import defaultdict\n",
    "from gensim.models import Word2Vec\n",
    "from nltk.stem.porter import *\n",
    "from sklearn import linear_model\n",
    "from sklearn.manifold import TSNE\n",
    "import pandas as pd"
   ]
  },
  {
   "cell_type": "code",
   "execution_count": 17,
   "metadata": {},
   "outputs": [
    {
     "name": "stdout",
     "output_type": "stream",
     "text": [
      "Top 50 most meaningful words:\n",
      "recipe: 670095\n",
      "made: 482458\n",
      "used: 424463\n",
      "thanks: 345084\n",
      "make: 339498\n",
      "great: 306623\n",
      "good: 296688\n",
      "out: 230401\n",
      "time: 223647\n",
      "these: 217471\n",
      "easy: 217147\n",
      "added: 205145\n",
      "really: 194398\n",
      "again: 192806\n",
      "like: 192518\n",
      "some: 191701\n",
      "one: 169129\n",
      "delicious: 167181\n",
      "more: 166671\n",
      "also: 165682\n",
      "sauce: 161267\n",
      "use: 158907\n",
      "loved: 153789\n",
      "little: 150488\n",
      "too: 146116\n",
      "didnt: 144440\n",
      "much: 138715\n",
      "only: 133917\n",
      "chicken: 128500\n",
      "next: 124614\n",
      "flavor: 124601\n",
      "add: 121328\n",
      "about: 117819\n",
      "from: 115971\n",
      "instead: 114752\n",
      "love: 110944\n",
      "thank: 110006\n",
      "because: 108029\n",
      "sharing: 105237\n",
      "cheese: 104809\n",
      "taste: 103231\n",
      "wonderful: 102940\n",
      "think: 102066\n",
      "bit: 101044\n",
      "making: 99968\n",
      "well: 99503\n",
      "when: 98605\n",
      "nice: 96502\n",
      "than: 93125\n",
      "what: 93085\n"
     ]
    }
   ],
   "source": [
    "stop_words = {\n",
    "    'i', 'the', 'and', 'a', 'it', 'this', 'to', 'for', 'of', 'was', \n",
    "    'in', 'with', 'my', 'is', 'so', 'but', 'that', 'on', 'at', 'an',\n",
    "    'as', 'are', 'be', 'by', 'had', 'have', 'all', 'can', 'they',\n",
    "    'we', 'were', 'you', 'your', 'them', 'would', 'just', 'very', \n",
    "    'will', 'not', 'did'\n",
    "}\n",
    "\n",
    "df = pd.read_csv('RAW_interactions.csv')\n",
    "\n",
    "\n",
    "wordCount = defaultdict(int)\n",
    "punctuation = set(string.punctuation)\n",
    "for review in df['review']:\n",
    "    if pd.isna(review):\n",
    "        continue\n",
    "    r = ''.join([c for c in review.lower() if not c in punctuation])\n",
    "    for w in r.split():\n",
    "        if w not in stop_words and len(w) > 2:\n",
    "            wordCount[w] += 1\n",
    "\n",
    "counts = [(wordCount[w], w) for w in wordCount]\n",
    "counts.sort(reverse=True)\n",
    "\n",
    "print(\"Top 50 most meaningful words:\")\n",
    "for count, word in counts[:50]:\n",
    "    print(f\"{word}: {count}\")"
   ]
  },
  {
   "cell_type": "code",
   "execution_count": null,
   "metadata": {},
   "outputs": [],
   "source": []
  }
 ],
 "metadata": {
  "kernelspec": {
   "display_name": "Python 3",
   "language": "python",
   "name": "python3"
  },
  "language_info": {
   "codemirror_mode": {
    "name": "ipython",
    "version": 3
   },
   "file_extension": ".py",
   "mimetype": "text/x-python",
   "name": "python",
   "nbconvert_exporter": "python",
   "pygments_lexer": "ipython3",
   "version": "3.11.5"
  },
  "orig_nbformat": 4
 },
 "nbformat": 4,
 "nbformat_minor": 2
}
