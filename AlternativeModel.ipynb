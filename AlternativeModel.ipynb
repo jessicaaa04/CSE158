{
 "cells": [
  {
   "cell_type": "code",
   "execution_count": 1,
   "id": "ae6e369a-e738-4f65-aa91-b03519116799",
   "metadata": {},
   "outputs": [],
   "source": [
    "# NOTE RATING IS 0-5 INTEGER ONLY"
   ]
  },
  {
   "cell_type": "code",
   "execution_count": 1,
   "id": "93321c0a-0947-42dc-9c4d-56ffa6ef5d92",
   "metadata": {
    "ExecuteTime": {
     "end_time": "2024-12-02T07:50:52.598619500Z",
     "start_time": "2024-12-02T07:50:49.048665200Z"
    }
   },
   "outputs": [],
   "source": [
    "import gzip\n",
    "from collections import defaultdict\n",
    "import math\n",
    "import scipy.optimize\n",
    "from sklearn import svm\n",
    "import numpy\n",
    "import string\n",
    "import random\n",
    "import string\n",
    "from sklearn import linear_model\n",
    "from sklearn.metrics import accuracy_score, mean_squared_error, classification_report\n",
    "from sklearn.ensemble import RandomForestClassifier\n",
    "from sklearn.model_selection import train_test_split\n",
    "from scipy.optimize import minimize\n",
    "from itertools import islice\n",
    "import csv"
   ]
  },
  {
   "cell_type": "code",
   "execution_count": 2,
   "id": "52865c25-9f4d-4457-9010-b8233ae2dd57",
   "metadata": {
    "ExecuteTime": {
     "end_time": "2024-12-02T07:50:52.607754800Z",
     "start_time": "2024-12-02T07:50:52.599079400Z"
    }
   },
   "outputs": [],
   "source": [
    "def assertFloat(x):\n",
    "    assert type(float(x)) == float\n",
    "\n",
    "def assertFloatList(items, N):\n",
    "    assert len(items) == N\n",
    "    assert [type(float(x)) for x in items] == [float]*N"
   ]
  },
  {
   "cell_type": "code",
   "execution_count": 3,
   "id": "8d8344d7-1767-4f40-8fb5-da3c5a715342",
   "metadata": {
    "ExecuteTime": {
     "end_time": "2024-12-02T07:50:52.607754800Z",
     "start_time": "2024-12-02T07:50:52.602813600Z"
    }
   },
   "outputs": [],
   "source": [
    "import warnings\n",
    "warnings.filterwarnings(\"ignore\")"
   ]
  },
  {
   "cell_type": "code",
   "execution_count": 4,
   "id": "d33ac2cc-c2d4-4d0c-9d69-feaa1675ea9b",
   "metadata": {
    "ExecuteTime": {
     "end_time": "2024-12-02T07:50:52.609155200Z",
     "start_time": "2024-12-02T07:50:52.605615300Z"
    }
   },
   "outputs": [],
   "source": [
    "def readGz(path):\n",
    "    for l in gzip.open(path, 'rt'):\n",
    "        yield eval(l)"
   ]
  },
  {
   "cell_type": "code",
   "execution_count": 5,
   "id": "a3477cac-d624-464e-beba-4d82df60c5a7",
   "metadata": {
    "ExecuteTime": {
     "end_time": "2024-12-02T07:50:52.618084100Z",
     "start_time": "2024-12-02T07:50:52.611091700Z"
    }
   },
   "outputs": [],
   "source": [
    "def readCSV(path):\n",
    "    with open(path, mode='r') as file:\n",
    "        reader = csv.reader(file)\n",
    "        # Skip the header row\n",
    "        next(reader, None)\n",
    "        # Loop through the rows\n",
    "        for row in reader:\n",
    "            # Extract the first 4 columns\n",
    "            u,i,d,r = row[:4]\n",
    "            yield u, i, d, float(r)\n"
   ]
  },
  {
   "cell_type": "markdown",
   "source": [
    "### This is a temporary version of the alternative model. \n",
    "Feel free to play with the data! To avoid merge conflicts though either duplicate the file or use a different branch.\n",
    "If there are any issues or fixes to stuff that I've done lmk.\n",
    "\n",
    "The baseline is just here to chill around. \n"
   ],
   "metadata": {
    "collapsed": false
   },
   "id": "d039e8535868cdda"
  },
  {
   "cell_type": "code",
   "execution_count": 6,
   "id": "a23e9c98-afb4-49c2-817b-8dd7342ee877",
   "metadata": {
    "ExecuteTime": {
     "end_time": "2024-12-02T07:50:54.507767400Z",
     "start_time": "2024-12-02T07:50:52.615054200Z"
    }
   },
   "outputs": [],
   "source": [
    "train_dataset = []\n",
    "ratings_dict = defaultdict(int)\n",
    "itemsPerUser = defaultdict(set)\n",
    "usersPerItem = defaultdict(set)\n",
    "global_fallback_rating = 0\n",
    "for l in readCSV(\"data/interactions_train.csv\"):\n",
    "    train_dataset.append(l)\n",
    "    user, recipe, data, rating = l\n",
    "    itemsPerUser[user].add(recipe)\n",
    "    usersPerItem[recipe].add(user)\n",
    "    global_fallback_rating += rating"
   ]
  },
  {
   "cell_type": "code",
   "execution_count": 7,
   "id": "d44c4a19-23dc-4bc8-83cd-fc07124f5630",
   "metadata": {
    "ExecuteTime": {
     "end_time": "2024-12-02T07:50:54.515258400Z",
     "start_time": "2024-12-02T07:50:54.508763900Z"
    }
   },
   "outputs": [],
   "source": [
    "global_fallback_rating = global_fallback_rating / len(train_dataset)\n",
    "global_fallback_rating\n",
    "def baseline_predictor(user, item, date):\n",
    "    return global_fallback_rating"
   ]
  },
  {
   "cell_type": "code",
   "execution_count": 8,
   "id": "1cbed53a-81a8-4af0-a094-fa3e529d5bdf",
   "metadata": {
    "ExecuteTime": {
     "end_time": "2024-12-02T07:50:54.535970100Z",
     "start_time": "2024-12-02T07:50:54.512268Z"
    }
   },
   "outputs": [
    {
     "name": "stdout",
     "output_type": "stream",
     "text": [
      "baseline MSE: 1.8138061805801156\n"
     ]
    }
   ],
   "source": [
    "validation_dataset = []\n",
    "validation_reals = []\n",
    "validation_preds = []\n",
    "for l in readCSV(\"data/interactions_validation.csv\"):\n",
    "    validation_dataset.append(l)\n",
    "    user, recipe, date, rating = l\n",
    "    validation_reals.append(rating)\n",
    "    validation_preds.append(baseline_predictor(user, recipe, date))\n",
    "print(f'baseline MSE: {mean_squared_error(validation_reals, validation_preds)}')"
   ]
  },
  {
   "cell_type": "markdown",
   "source": [
    "### Alternative Model"
   ],
   "metadata": {
    "collapsed": false
   },
   "id": "cbdcd252171e478c"
  },
  {
   "cell_type": "code",
   "execution_count": 9,
   "id": "2fa47a4a-856a-46a3-bf24-9bb420c1daf1",
   "metadata": {
    "ExecuteTime": {
     "end_time": "2024-12-02T07:52:50.411882100Z",
     "start_time": "2024-12-02T07:50:56.432354300Z"
    }
   },
   "outputs": [
    {
     "name": "stdout",
     "output_type": "stream",
     "text": [
      "   user_id  recipe        date  rating      u       i\n",
      "0     2046    4684  2000-02-25     5.0  22095   44367\n",
      "1     2046     517  2000-02-25     5.0  22095   87844\n",
      "2     1773    7435  2000-03-13     5.0  24732  138181\n",
      "3     1773     278  2000-03-13     4.0  24732   93054\n",
      "4     2046    3431  2000-04-07     5.0  22095  101723\n",
      "5     2046   13307  2000-05-21     5.0  22095  134551\n",
      "6     2312     780  2000-09-12     5.0   1674  127175\n",
      "7     2312   51964  2000-09-26     5.0   1674  151793\n",
      "8     2312    1232  2000-10-17     4.0   1674   15498\n",
      "9     2312    4397  2000-10-17     5.0   1674   14380\n",
      "MSE: 0.8513\n",
      "MSE on test set: 0.8512937027458124\n",
      "MSE on validation set: 1.6628329128833175\n"
     ]
    }
   ],
   "source": [
    "#This is a model using svdpp to compare our original model to\n",
    "import gzip\n",
    "from collections import defaultdict\n",
    "import random\n",
    "import csv\n",
    "import numpy as np\n",
    "import math\n",
    "import pandas as pd\n",
    "from surprise import Dataset\n",
    "from surprise import Reader\n",
    "from surprise import SVDpp\n",
    "from surprise.model_selection import train_test_split\n",
    "from surprise import accuracy\n",
    "\n",
    "#using pandas to make display a bit easier to debug\n",
    "df = pd.read_csv(\"data/interactions_train.csv\", names=['user_id', 'recipe', 'date', 'rating', \"u\", \"i\"], skiprows = 1 )\n",
    "print(df[0:10])\n",
    "df['rating'] = df['rating'].astype(int)  \n",
    "reader = Reader(rating_scale=(0, 5))\n",
    "data = Dataset.load_from_df(df[['user_id', 'recipe','rating']], reader)\n",
    "trainset, testset = train_test_split(data, test_size=0.5)\n",
    "model = SVDpp(n_factors=3, lr_all=0.01, reg_all = 0.2)\n",
    "model.fit(trainset)\n",
    "\n",
    "#validation\n",
    "pairs = pd.read_csv('data/interactions_validation.csv', names=['user_id', 'recipe', 'date', 'rating', \"u\", \"i\"], skiprows=1)\n",
    "predictions = []\n",
    "for _, row in pairs.iterrows():\n",
    "    user = row['user_id']\n",
    "    rec = row['recipe']\n",
    "    pred = model.predict(user, rec).est\n",
    "    predictions.append(pred)\n",
    "\n",
    "pairs['prediction'] = predictions\n",
    "predictions_test = model.test(testset)\n",
    "mse = accuracy.mse(predictions_test)\n",
    "print(f'MSE on test set: {mse}')\n",
    "\n",
    "validation_actual = pairs['rating'].astype(float)  \n",
    "validation_predicted = pairs['prediction']        \n",
    "validation_mse = np.mean((validation_actual - validation_predicted) ** 2)\n",
    "print(f'MSE on validation set: {validation_mse}')"
   ]
  },
  {
   "cell_type": "code",
   "execution_count": null,
   "outputs": [],
   "source": [
    "#This is a scrapped list of parameter grid I have run so far, I will be replacing these with lists generated by np later\n",
    "\n",
    "'''param_grid = {\n",
    "    'n_factors': [1],\n",
    "    'lr_all': [0.002 , 0.005, 0.01, 0.015, 0.2],\n",
    "    'reg_all': [0.02, 0.05, 0.1, 0.2, 0.25, 0.3]\n",
    "}\n",
    "'''\n",
    "'''param_grid = {\n",
    "    'n_factors': [1],\n",
    "    'lr_all': [0.01, 0.00975, 0.0095],\n",
    "    'reg_all': [0.25]\n",
    "}\n",
    "gs = GridSearchCV(SVDpp, param_grid, measures=['rmse'], cv=3)\n",
    "gs.fit(data)\n",
    "print(\"Best NF\", gs.best_params['rmse'])\n",
    "results = gs.cv_results\n",
    "for params, mean_rmse, std_rmse in zip(results['params'], results['mean_test_rmse'], results['std_test_rmse']):\n",
    "    print(f\"Params: {params}, Mean RMSE: {mean_rmse:.4f}, Std Dev RMSE: {std_rmse:.4f}\")'''"
   ],
   "metadata": {
    "collapsed": false
   },
   "id": "30838fb0f1c43926"
  }
 ],
 "metadata": {
  "kernelspec": {
   "display_name": "Python 3 (ipykernel)",
   "language": "python",
   "name": "python3"
  },
  "language_info": {
   "codemirror_mode": {
    "name": "ipython",
    "version": 3
   },
   "file_extension": ".py",
   "mimetype": "text/x-python",
   "name": "python",
   "nbconvert_exporter": "python",
   "pygments_lexer": "ipython3",
   "version": "3.11.9"
  }
 },
 "nbformat": 4,
 "nbformat_minor": 5
}
